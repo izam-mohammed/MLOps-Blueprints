{
 "cells": [
  {
   "cell_type": "code",
   "execution_count": 2,
   "metadata": {},
   "outputs": [],
   "source": [
    "!pip install mlflow --quiet"
   ]
  },
  {
   "cell_type": "code",
   "execution_count": 4,
   "metadata": {},
   "outputs": [
    {
     "name": "stdout",
     "output_type": "stream",
     "text": [
      "[2024-01-21 14:33:36 +0530] [56634] [INFO] Starting gunicorn 21.2.0\n",
      "[2024-01-21 14:33:36 +0530] [56634] [INFO] Listening at: http://127.0.0.1:8080 (56634)\n",
      "[2024-01-21 14:33:36 +0530] [56634] [INFO] Using worker: sync\n",
      "[2024-01-21 14:33:36 +0530] [56635] [INFO] Booting worker with pid: 56635\n",
      "[2024-01-21 14:33:36 +0530] [56636] [INFO] Booting worker with pid: 56636\n",
      "[2024-01-21 14:33:36 +0530] [56637] [INFO] Booting worker with pid: 56637\n",
      "[2024-01-21 14:33:36 +0530] [56638] [INFO] Booting worker with pid: 56638\n",
      "^C\n",
      "[2024-01-21 14:34:06 +0530] [56634] [INFO] Handling signal: int\n",
      "[2024-01-21 14:34:07 +0530] [56638] [INFO] Worker exiting (pid: 56638)\n",
      "[2024-01-21 14:34:07 +0530] [56636] [INFO] Worker exiting (pid: 56636)\n",
      "[2024-01-21 14:34:07 +0530] [56635] [INFO] Worker exiting (pid: 56635)\n",
      "[2024-01-21 14:34:07 +0530] [56637] [INFO] Worker exiting (pid: 56637)\n"
     ]
    }
   ],
   "source": [
    "# initiate the server\n",
    "\n",
    "# run the code below in terminal\n",
    "# mlflow server --host 127.0.0.1 --port 8080"
   ]
  },
  {
   "cell_type": "code",
   "execution_count": 6,
   "metadata": {},
   "outputs": [],
   "source": [
    "# importing dependencies\n",
    "\n",
    "from mlflow import MlflowClient\n",
    "from pprint import pprint\n",
    "from sklearn.ensemble import RandomForestRegressor"
   ]
  },
  {
   "cell_type": "code",
   "execution_count": 7,
   "metadata": {},
   "outputs": [],
   "source": [
    "# configure the mlfow tracking client\n",
    "\n",
    "client = MlflowClient(tracking_uri=\"http://127.0.0.1:8080\")"
   ]
  },
  {
   "cell_type": "code",
   "execution_count": 9,
   "metadata": {},
   "outputs": [
    {
     "name": "stdout",
     "output_type": "stream",
     "text": [
      "[<Experiment: artifact_location='mlflow-artifacts:/861645051746955503', creation_time=1705826438911, experiment_id='861645051746955503', last_update_time=1705826438911, lifecycle_stage='active', name='first run', tags={}>, <Experiment: artifact_location='mlflow-artifacts:/0', creation_time=1705826324411, experiment_id='0', last_update_time=1705826324411, lifecycle_stage='active', name='Default', tags={}>]\n"
     ]
    }
   ],
   "source": [
    "# getting all of the experiments\n",
    "\n",
    "all_experiments = client.search_experiments()\n",
    "\n",
    "print(all_experiments)"
   ]
  },
  {
   "cell_type": "code",
   "execution_count": 10,
   "metadata": {},
   "outputs": [
    {
     "name": "stdout",
     "output_type": "stream",
     "text": [
      "{'lifecycle_stage': 'active', 'name': 'first run'}\n"
     ]
    }
   ],
   "source": [
    "# getting the first run experiment\n",
    "\n",
    "first_experiment = [\n",
    "    {\"name\": experiment.name, \"lifecycle_stage\": experiment.lifecycle_stage}\n",
    "    for experiment in all_experiments\n",
    "    if experiment.name == \"first run\"\n",
    "][0]\n",
    "\n",
    "pprint(first_experiment)"
   ]
  }
 ],
 "metadata": {
  "kernelspec": {
   "display_name": "mlflow",
   "language": "python",
   "name": "python3"
  },
  "language_info": {
   "codemirror_mode": {
    "name": "ipython",
    "version": 3
   },
   "file_extension": ".py",
   "mimetype": "text/x-python",
   "name": "python",
   "nbconvert_exporter": "python",
   "pygments_lexer": "ipython3",
   "version": "3.11.7"
  }
 },
 "nbformat": 4,
 "nbformat_minor": 2
}
